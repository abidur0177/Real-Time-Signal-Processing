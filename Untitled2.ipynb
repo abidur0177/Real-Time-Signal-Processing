{
 "cells": [
  {
   "cell_type": "code",
   "execution_count": 1,
   "id": "d084e321",
   "metadata": {},
   "outputs": [],
   "source": [
    "import pandas as pd\n",
    "import numpy as np"
   ]
  },
  {
   "cell_type": "code",
   "execution_count": 9,
   "id": "c25ae288",
   "metadata": {},
   "outputs": [
    {
     "name": "stdout",
     "output_type": "stream",
     "text": [
      "[1. 0. 1. 0. 0. 1. 0. 1. 0. 1. 0. 1. 1. 0. 1. 0. 1. 0. 1. 0. 0. 1. 0. 1.]\n"
     ]
    }
   ],
   "source": [
    "#-----------------------------------------\n",
    "# CDMA-Sequence Generator for IM/DD Systems\n",
    "# Adrian Krohn, ICT/NT, RealTime Lab 2022\n",
    "#-----------------------------------------\n",
    "import numpy as np\n",
    "\n",
    "def cdma_short(data, chips): #Short Code\n",
    "    ld = len(data)\n",
    "    lc = len(chips)\n",
    "    out = np.zeros(ld*lc)\n",
    "    i = 0\n",
    "    for d in data:\n",
    "        for c in chips:\n",
    "            out[i] = 1-(d+c)%2 #Unipolar Inverting\n",
    "            i += 1\n",
    "    return out\n",
    "\n",
    "cdma_seq = cdma_short([1,0,0,1,1,0],[1,0,1,0])\n",
    "print(cdma_seq)"
   ]
  },
  {
   "cell_type": "code",
   "execution_count": 10,
   "id": "9c93afa6",
   "metadata": {},
   "outputs": [
    {
     "name": "stdout",
     "output_type": "stream",
     "text": [
      "[0. 1. 1. 0. 0. 1. 1. 0. 1. 0. 0. 1. 1. 0. 0. 1. 0. 1. 1. 0. 1. 0. 0. 1.\n",
      " 0. 1. 1. 0.]\n"
     ]
    }
   ],
   "source": [
    "import numpy as np\n",
    "\n",
    "def cdma_short(data,chips):\n",
    "    ld = len(data)\n",
    "    lc = len(chips)\n",
    "    out = np.zeros(ld*lc)\n",
    "    i = 0\n",
    "    for d in data:\n",
    "        for c in chips:\n",
    "            out[i] = 1-(d+c)%2\n",
    "            i+=1\n",
    "    return out\n",
    "\n",
    "cdma_seq = cdma_short([1,1,0,0,1,0,1],[0,1,1,0])\n",
    "print(cdma_seq)"
   ]
  },
  {
   "cell_type": "code",
   "execution_count": null,
   "id": "9758c9be",
   "metadata": {},
   "outputs": [],
   "source": []
  }
 ],
 "metadata": {
  "kernelspec": {
   "display_name": "Python 3 (ipykernel)",
   "language": "python",
   "name": "python3"
  },
  "language_info": {
   "codemirror_mode": {
    "name": "ipython",
    "version": 3
   },
   "file_extension": ".py",
   "mimetype": "text/x-python",
   "name": "python",
   "nbconvert_exporter": "python",
   "pygments_lexer": "ipython3",
   "version": "3.9.6"
  }
 },
 "nbformat": 4,
 "nbformat_minor": 5
}
