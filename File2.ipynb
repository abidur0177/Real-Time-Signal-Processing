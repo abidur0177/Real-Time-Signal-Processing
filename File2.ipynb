{
  "cells": [
    {
      "cell_type": "markdown",
      "source": [
        "### Import the libraries"
      ],
      "metadata": {
        "id": "BqS7UqFp6AjW"
      },
      "id": "BqS7UqFp6AjW"
    },
    {
      "cell_type": "code",
      "execution_count": null,
      "id": "d084e321",
      "metadata": {
        "id": "d084e321"
      },
      "outputs": [],
      "source": [
        "import pandas as pd\n",
        "import numpy as np"
      ]
    },
    {
      "cell_type": "markdown",
      "source": [
        "### CDMA sequence generator"
      ],
      "metadata": {
        "id": "nEgMoohz6F0a"
      },
      "id": "nEgMoohz6F0a"
    },
    {
      "cell_type": "code",
      "execution_count": null,
      "id": "c25ae288",
      "metadata": {
        "id": "c25ae288",
        "outputId": "26dd968a-904d-404c-f1e5-bdb4adb75a71"
      },
      "outputs": [
        {
          "name": "stdout",
          "output_type": "stream",
          "text": [
            "[1. 0. 1. 0. 0. 1. 0. 1. 0. 1. 0. 1. 1. 0. 1. 0. 1. 0. 1. 0. 0. 1. 0. 1.]\n"
          ]
        }
      ],
      "source": [
        "import numpy as np\n",
        "\n",
        "def cdma_short(data, chips): #Short Code\n",
        "    ld = len(data)\n",
        "    lc = len(chips)\n",
        "    out = np.zeros(ld*lc)\n",
        "    i = 0\n",
        "    for d in data:\n",
        "        for c in chips:\n",
        "            out[i] = 1-(d+c)%2 #Unipolar Inverting\n",
        "            i += 1\n",
        "    return out\n",
        "\n",
        "cdma_seq = cdma_short([1,0,0,1,1,0],[1,0,1,0])\n",
        "print(cdma_seq)"
      ]
    },
    {
      "cell_type": "markdown",
      "source": [
        "### Modulation of data with CDMA sequence"
      ],
      "metadata": {
        "id": "4ERhT4Lf6Mj7"
      },
      "id": "4ERhT4Lf6Mj7"
    },
    {
      "cell_type": "code",
      "execution_count": null,
      "id": "9c93afa6",
      "metadata": {
        "id": "9c93afa6",
        "outputId": "f4a6c42a-186e-4b5e-9007-e65e76360f1a"
      },
      "outputs": [
        {
          "name": "stdout",
          "output_type": "stream",
          "text": [
            "[0. 1. 1. 0. 0. 1. 1. 0. 1. 0. 0. 1. 1. 0. 0. 1. 0. 1. 1. 0. 1. 0. 0. 1.\n",
            " 0. 1. 1. 0.]\n"
          ]
        }
      ],
      "source": [
        "import numpy as np\n",
        "\n",
        "def cdma_short(data,chips):\n",
        "    ld = len(data)\n",
        "    lc = len(chips)\n",
        "    out = np.zeros(ld*lc)\n",
        "    i = 0\n",
        "    for d in data:\n",
        "        for c in chips:\n",
        "            out[i] = 1-(d+c)%2\n",
        "            i+=1\n",
        "    return out\n",
        "\n",
        "cdma_seq = cdma_short([1,1,0,0,1,0,1],[0,1,1,0])\n",
        "print(cdma_seq)"
      ]
    }
  ],
  "metadata": {
    "kernelspec": {
      "display_name": "Python 3 (ipykernel)",
      "language": "python",
      "name": "python3"
    },
    "language_info": {
      "codemirror_mode": {
        "name": "ipython",
        "version": 3
      },
      "file_extension": ".py",
      "mimetype": "text/x-python",
      "name": "python",
      "nbconvert_exporter": "python",
      "pygments_lexer": "ipython3",
      "version": "3.9.6"
    },
    "colab": {
      "provenance": []
    }
  },
  "nbformat": 4,
  "nbformat_minor": 5
}